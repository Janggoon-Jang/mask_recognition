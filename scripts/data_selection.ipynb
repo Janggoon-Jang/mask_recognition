{
 "cells": [
  {
   "cell_type": "code",
   "execution_count": 21,
   "id": "544ab902",
   "metadata": {},
   "outputs": [],
   "source": [
    "from ultralytics import YOLO\n",
    "from pathlib import Path\n",
    "import cv2\n",
    "import numpy as np\n",
    "import matplotlib.pyplot as plt\n",
    "from tqdm import tqdm\n",
    "import shutil"
   ]
  },
  {
   "cell_type": "code",
   "execution_count": null,
   "id": "161ff32c",
   "metadata": {},
   "outputs": [
    {
     "name": "stderr",
     "output_type": "stream",
     "text": [
      "100%|██████████| 1773/1773 [05:30<00:00,  5.36it/s]\n"
     ]
    }
   ],
   "source": [
    "# IoU 계산 함수\n",
    "def compute_iou(box1, box2):\n",
    "    \"\"\"\n",
    "    box: [x1, y1, x2, y2]\n",
    "    \"\"\"\n",
    "    x_left = max(box1[0], box2[0])\n",
    "    y_top = max(box1[1], box2[1])\n",
    "    x_right = min(box1[2], box2[2])\n",
    "    y_bottom = min(box1[3], box2[3])\n",
    "\n",
    "    if x_right < x_left or y_bottom < y_top:\n",
    "        return 0.0\n",
    "\n",
    "    inter_area = (x_right - x_left) * (y_bottom - y_top)\n",
    "    box1_area = (box1[2]-box1[0]) * (box1[3]-box1[1])\n",
    "    box2_area = (box2[2]-box2[0]) * (box2[3]-box2[1])\n",
    "    union_area = box1_area + box2_area - inter_area\n",
    "\n",
    "    return inter_area / union_area if union_area > 0 else 0.0\n",
    "\n",
    "\n",
    "def yolo_to_xyxy(box, img_w, img_h):\n",
    "    \"\"\"YOLO 형식 (cx, cy, w, h) → (x1, y1, x2, y2)\"\"\"\n",
    "    cx, cy, w, h = box\n",
    "    x1 = (cx - w/2) * img_w\n",
    "    y1 = (cy - h/2) * img_h\n",
    "    x2 = (cx + w/2) * img_w\n",
    "    y2 = (cy + h/2) * img_h\n",
    "    return [x1, y1, x2, y2]\n",
    "\n",
    "# 경로 설정\n",
    "image_dir = Path(\"/workspaces/mask_recognition/data/dataset_1and2/images\")\n",
    "label_dir = Path(\"/workspaces/mask_recognition/data/dataset_1and2/labels\")\n",
    "model_path = \"/workspaces/mask_recognition/results/runs/baseline2/baseline2/weights/best.pt\"\n",
    "\n",
    "# 모델 불러오기\n",
    "model = YOLO(model_path)\n",
    "\n",
    "# 평균 IoU 저장용 리스트\n",
    "image_ious = []\n",
    "\n",
    "# 모든 이미지에 대해 추론\n",
    "for img_path in tqdm(sorted(image_dir.glob(\"*.jpg\"))):\n",
    "    img = cv2.imread(str(img_path))\n",
    "    h, w = img.shape[:2]\n",
    "\n",
    "    # 라벨 파일 불러오기\n",
    "    label_path = label_dir / (img_path.stem + \".txt\")\n",
    "    if not label_path.exists():\n",
    "        continue\n",
    "\n",
    "    gt_boxes = []\n",
    "    with open(label_path, \"r\") as f:\n",
    "        for line in f.readlines():\n",
    "            parts = line.strip().split()\n",
    "            box = list(map(float, parts[1:5]))  # YOLO 형식 (cx, cy, w, h)\n",
    "            gt_boxes.append(yolo_to_xyxy(box, w, h))\n",
    "\n",
    "    # 모델 추론\n",
    "    results = model.predict(source=str(img_path), save=False, conf=0.25, iou=0.5, verbose=False)\n",
    "    pred_boxes = []\n",
    "    for r in results:\n",
    "        for box in r.boxes.xyxy.cpu().numpy():\n",
    "            pred_boxes.append(box.tolist())\n",
    "\n",
    "    # IoU 계산\n",
    "    ious = []\n",
    "    for gt in gt_boxes:\n",
    "        best_iou = 0.0\n",
    "        for pred in pred_boxes:\n",
    "            iou = compute_iou(gt, pred)\n",
    "            if iou > best_iou:\n",
    "                best_iou = iou\n",
    "        ious.append(best_iou)  # GT box 당 best IoU\n",
    "\n",
    "    # 이미지당 평균 IoU\n",
    "    if ious:\n",
    "        image_ious.append(np.mean(ious))"
   ]
  },
  {
   "cell_type": "code",
   "execution_count": 3,
   "id": "4ecdebbc",
   "metadata": {},
   "outputs": [
    {
     "data": {
      "image/png": "[encoded data removed]",
      "text/plain": [
       "<Figure size 1000x600 with 1 Axes>"
      ]
     },
     "metadata": {},
     "output_type": "display_data"
    }
   ],
   "source": [
    "# 히스토그램 그리기\n",
    "plt.figure(figsize=(10, 6))\n",
    "plt.hist(image_ious, bins=30, color=\"steelblue\", edgecolor=\"black\")\n",
    "plt.title(\"Distribution of Mean IoU per Image\")\n",
    "plt.xlabel(\"Mean IoU\")\n",
    "plt.ylabel(\"Number of Images\")\n",
    "plt.grid(True)\n",
    "plt.show()"
   ]
  },
  {
   "cell_type": "code",
   "execution_count": 5,
   "id": "71e434ae",
   "metadata": {},
   "outputs": [
    {
     "data": {
      "text/plain": [
       "1773"
      ]
     },
     "execution_count": 5,
     "metadata": {},
     "output_type": "execute_result"
    }
   ],
   "source": [
    "len(image_ious)"
   ]
  },
  {
   "cell_type": "code",
   "execution_count": 8,
   "id": "14107a20",
   "metadata": {},
   "outputs": [],
   "source": [
    "image_ious_array = np.array(image_ious)"
   ]
  },
  {
   "cell_type": "code",
   "execution_count": null,
   "id": "74e46446",
   "metadata": {},
   "outputs": [
    {
     "data": {
      "text/plain": [
       "1030"
      ]
     },
     "execution_count": 13,
     "metadata": {},
     "output_type": "execute_result"
    }
   ],
   "source": [
    "sum(image_ious_array > 0.7)"
   ]
  },
  {
   "cell_type": "code",
   "execution_count": 15,
   "id": "0bae8b9c",
   "metadata": {},
   "outputs": [],
   "source": [
    "# 고품질 이미지만 선택\n",
    "THRESH = 0.7\n",
    "high_quality_indices = [i for i, iou in enumerate(image_ious) if iou >= THRESH]"
   ]
  },
  {
   "cell_type": "code",
   "execution_count": null,
   "id": "08071251",
   "metadata": {},
   "outputs": [],
   "source": [
    "high_quality_indices"
   ]
  },
  {
   "cell_type": "code",
   "execution_count": 20,
   "id": "79a685b8",
   "metadata": {},
   "outputs": [
    {
     "name": "stdout",
     "output_type": "stream",
     "text": [
      "ratio of selected data from dataset1: 88.70%\n",
      "ratio of selected data from dataset2: 25.09%\n"
     ]
    }
   ],
   "source": [
    "print(f\"ratio of selected data from dataset1: {sum(np.array(high_quality_indices) <= 920) * 100 / 920:.2f}%\")\n",
    "print(f\"ratio of selected data from dataset2: {sum(np.array(high_quality_indices) > 920) * 100 / 853:.2f}%\")"
   ]
  },
  {
   "cell_type": "code",
   "execution_count": null,
   "id": "722c6ab4",
   "metadata": {},
   "outputs": [],
   "source": [
    "image_dir = Path(\"/workspaces/mask_recognition/data/dataset_1and2/images\")\n",
    "label_dir = Path(\"/workspaces/mask_recognition/data/dataset_1and2/labels\")"
   ]
  },
  {
   "cell_type": "code",
   "execution_count": 26,
   "id": "2b089cb0",
   "metadata": {},
   "outputs": [],
   "source": [
    "image_paths = sorted(image_dir.glob(\"*.jpg\"))\n",
    "label_paths = [label_dir / image_path.with_suffix(\".txt\").name for image_path in image_paths]"
   ]
  },
  {
   "cell_type": "code",
   "execution_count": 29,
   "id": "5455ecae",
   "metadata": {},
   "outputs": [],
   "source": [
    "dst_image_path = image_dir.parent.parent / \"dataset_final\" / \"images\"\n",
    "dst_label_path = image_dir.parent.parent / \"dataset_final\" / \"labels\"\n",
    "\n",
    "Path.mkdir(dst_image_path, parents=True, exist_ok=True)\n",
    "Path.mkdir(dst_label_path, parents=True, exist_ok=True)"
   ]
  },
  {
   "cell_type": "code",
   "execution_count": 32,
   "id": "d36db9ce",
   "metadata": {},
   "outputs": [],
   "source": [
    "for i in high_quality_indices:\n",
    "    shutil.copy2(image_paths[i], dst_image_path / image_paths[i].name)\n",
    "    shutil.copy2(label_paths[i], dst_label_path / label_paths[i].name)"
   ]
  }
 ],
 "metadata": {
  "kernelspec": {
   "display_name": "Python 3",
   "language": "python",
   "name": "python3"
  },
  "language_info": {
   "codemirror_mode": {
    "name": "ipython",
    "version": 3
   },
   "file_extension": ".py",
   "mimetype": "text/x-python",
   "name": "python",
   "nbconvert_exporter": "python",
   "pygments_lexer": "ipython3",
   "version": "3.11.13"
  }
 },
 "nbformat": 4,
 "nbformat_minor": 5
}
