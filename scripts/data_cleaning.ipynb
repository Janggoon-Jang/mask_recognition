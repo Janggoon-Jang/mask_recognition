{
 "cells": [
  {
   "cell_type": "markdown",
   "id": "5b0a9478",
   "metadata": {},
   "source": [
    "1. 데이터 구조 정리\n",
    "2. 라벨링 품질 확인\n",
    "3. 이미지 형식 통일(jpg), 손상 파일 제거\n",
    "4. 파일명 변환"
   ]
  },
  {
   "cell_type": "code",
   "execution_count": 1,
   "id": "2fd28a49",
   "metadata": {},
   "outputs": [],
   "source": [
    "import cv2\n",
    "import matplotlib.pyplot as plt\n",
    "import os\n",
    "import shutil\n",
    "from pathlib import Path\n",
    "from PIL import Image, ImageDraw\n",
    "from MaskRecog.preprocess.preprocessor import load_args, load_image, load_yolo_label, draw_bbox\n",
    "from tqdm import tqdm"
   ]
  },
  {
   "cell_type": "markdown",
   "id": "d9ff78b6",
   "metadata": {},
   "source": [
    "# 데이터셋 1 (args[\"data_dir_1\"])"
   ]
  },
  {
   "cell_type": "markdown",
   "id": "6df2217c",
   "metadata": {},
   "source": [
    "## 1. 데이터 구조 정리"
   ]
  },
  {
   "cell_type": "code",
   "execution_count": 2,
   "id": "5bea9a5e",
   "metadata": {},
   "outputs": [],
   "source": [
    "args = load_args()"
   ]
  },
  {
   "cell_type": "code",
   "execution_count": 3,
   "id": "05d0ff4d",
   "metadata": {},
   "outputs": [],
   "source": [
    "def get_unique_path(dst_path: Path) -> Path:\n",
    "    '''\n",
    "    데이터 구조 정리시 파일명 중복 방지\n",
    "    '''\n",
    "    new_path = dst_path\n",
    "    i = 1\n",
    "    while new_path.exists():\n",
    "        new_path = new_path.parent / f\"{new_path.stem}({i}){new_path.suffix}\"\n",
    "        i += 1\n",
    "\n",
    "    return new_path"
   ]
  },
  {
   "cell_type": "code",
   "execution_count": 4,
   "id": "fbf46eed",
   "metadata": {},
   "outputs": [],
   "source": [
    "def data_structure_setup(directory: Path) -> None:\n",
    "    '''\n",
    "    YOLO 형식 데이터 구조로 변환\n",
    "    data/       \n",
    "    └─ original/\n",
    "    ├─ images\n",
    "    └─ labels\n",
    "    '''\n",
    "    splits = [\"train\", \"valid\", \"test\"]\n",
    "    label_ext = \".txt\"\n",
    "    image_exts = [\".jpg\", \".jpeg\", \".png\", \".bmp\", \".tif\", \".tiff\"]\n",
    "\n",
    "    data_original_images = directory / \"original\" / \"images\"\n",
    "    data_original_labels = directory / \"original\" / \"labels\"\n",
    "    data_original_images.mkdir(parents=True, exist_ok=True)\n",
    "    data_original_labels.mkdir(parents=True, exist_ok=True)\n",
    "\n",
    "    for split in splits:\n",
    "        split_dir = directory / \"original\" / split\n",
    "        for file_path in split_dir.iterdir():\n",
    "            if file_path.suffix.lower() == label_ext:\n",
    "                target_dir = data_original_labels\n",
    "            elif file_path.suffix.lower() in image_exts:\n",
    "                target_dir = data_original_images\n",
    "            else:\n",
    "                continue\n",
    "\n",
    "            dst_path = target_dir / file_path.name\n",
    "            dst_path = get_unique_path(dst_path)\n",
    "            shutil.move(str(file_path), str(dst_path))"
   ]
  },
  {
   "cell_type": "code",
   "execution_count": null,
   "id": "d96c59ca",
   "metadata": {},
   "outputs": [],
   "source": [
    "# data_structure_setup(Path(args[\"data_dir_1\"]))"
   ]
  },
  {
   "cell_type": "markdown",
   "id": "986c32b5",
   "metadata": {},
   "source": [
    "## 2. 라벨링 품질 확인"
   ]
  },
  {
   "cell_type": "code",
   "execution_count": 5,
   "id": "96f695d0",
   "metadata": {},
   "outputs": [],
   "source": [
    "def corresponding_image_path(txt_path: Path) -> Path | None:\n",
    "    '''\n",
    "    Find corresponding image file for given txt path.\n",
    "    And return if it exist.\n",
    "\n",
    "    Args:\n",
    "        txt_path: Path object for the label (.txt) file\n",
    "    Return:\n",
    "        Path object of the corresponding image file, or None if not found\n",
    "    '''\n",
    "    image_dir = txt_path.parent.parent / 'images'\n",
    "    base_name = txt_path.stem\n",
    "    possible_exts = ['.jpg', '.jpeg', '.png', '.bmp', '.tiff']\n",
    "\n",
    "    for ext in possible_exts:\n",
    "        image_path = image_dir / f\"{base_name}{ext}\"\n",
    "        if image_path.exists():\n",
    "            return image_path\n",
    "\n",
    "    return None"
   ]
  },
  {
   "cell_type": "code",
   "execution_count": 6,
   "id": "1b982602",
   "metadata": {},
   "outputs": [],
   "source": [
    "def sample_printing(label_path: Path, iteration: int= 10) -> None:\n",
    "    txt_paths = label_path.glob(\"*.txt\")\n",
    "    i = 1\n",
    "    for txt_path in txt_paths:\n",
    "        if i >= iteration:\n",
    "            break\n",
    "        image_path = corresponding_image_path(txt_path)\n",
    "        draw_bbox(image_path, txt_path)\n",
    "        i += 1"
   ]
  },
  {
   "cell_type": "code",
   "execution_count": null,
   "id": "5247bb9d",
   "metadata": {},
   "outputs": [],
   "source": [
    "# data_dir_1 = Path(args[\"data_dir_1\"]) / \"original\" / \"labels\"\n",
    "# sample_printing(data_dir_1)"
   ]
  },
  {
   "cell_type": "code",
   "execution_count": null,
   "id": "a98c3699",
   "metadata": {},
   "outputs": [],
   "source": [
    "# processed_data = Path(args[\"data_dir_1\"]) / \"processed\" / \"labels\"\n",
    "# sample_printing(processed_data)"
   ]
  },
  {
   "cell_type": "markdown",
   "id": "25558140",
   "metadata": {},
   "source": [
    "## 3. 이미지 형식 통일(.jpg), 손상 파일 제거"
   ]
  },
  {
   "cell_type": "markdown",
   "id": "37fcaea9",
   "metadata": {},
   "source": [
    "1. 열리지 않는 파일 삭제\n",
    "2. jpg가 아닌 이미지 파일 jpg로 변환\n",
    "3. 변환된 이미지의 원본 파일 삭제"
   ]
  },
  {
   "cell_type": "code",
   "execution_count": 7,
   "id": "58c9ffa7",
   "metadata": {},
   "outputs": [],
   "source": [
    "def delete_files(txt_path: Path=None, image_path: Path=None) -> None:\n",
    "    '''\n",
    "    Delete one file or two files.\n",
    "\n",
    "    Args:\n",
    "        txt path or image path or both of them\n",
    "    '''\n",
    "    if txt_path:\n",
    "        try:\n",
    "            os.remove(txt_path)\n",
    "            print(f\"Successfully deleted: {txt_path}\")\n",
    "        except Exception as e:\n",
    "            print(f\"{e}: failed to remove {txt_path}\")\n",
    "\n",
    "    if image_path:\n",
    "        try:\n",
    "            os.remove(image_path)\n",
    "            print(f\"Successfully deleted: {image_path}\")\n",
    "        except Exception as e:\n",
    "            print(f\"{e}: failed to remove {image_path}\")\n"
   ]
  },
  {
   "cell_type": "code",
   "execution_count": 8,
   "id": "1be67ef1",
   "metadata": {},
   "outputs": [],
   "source": [
    "def convert_to_jpg(image_path: Path) -> None:\n",
    "    '''\n",
    "    Check image file's extension.\n",
    "    If it's not 'jpg', convert into 'jpg'.\n",
    "    If converting fails, delete image and corresponding txt files.\n",
    "    '''\n",
    "    base_name = image_path.stem\n",
    "    txt_path = image_path.parent.parent / 'labels' / base_name / '.txt'\n",
    "\n",
    "    try:\n",
    "        if image_path.suffix.lower() in ['.jpg', '.jpeg']:\n",
    "            new_path = image_path.with_suffix('.jpg')\n",
    "            image_path.rename(new_path)\n",
    "        else:\n",
    "            image = load_image(image_path)\n",
    "            new_path = image_path.with_suffix(\".jpg\")\n",
    "            image.convert(\"RGB\")\n",
    "            image.save(new_path, \"JPEG\")\n",
    "\n",
    "    except Exception as e:\n",
    "        print(f\"{e}: Failed to convert image extension {image_path}\")\n",
    "        delete_files(txt_path, image_path)"
   ]
  },
  {
   "cell_type": "markdown",
   "id": "5ce9e6e2",
   "metadata": {},
   "source": [
    "1. txt에 대응되는 이미지 파일이 없는 경우 삭제\n",
    "2. txt나 이미지가 열리지 않는 경우 삭제\n",
    "3. 이미지 확장자가 jpg가 아닌 경우 jpg로 변환\n",
    "4. jpg로 변환이 안 되는 경우 -> 이미지, txt 삭제 \n",
    "* 주의) 빈 txt 파일은 유효한 데이터임\n",
    "5. txt가 YOLO 포멧이 아닌 경우 -> 이미지, txt 삭제"
   ]
  },
  {
   "cell_type": "code",
   "execution_count": 9,
   "id": "db85afb6",
   "metadata": {},
   "outputs": [],
   "source": [
    "def data_cleaning(data_path: Path, start_file_num: int=1) -> None:\n",
    "    '''\n",
    "\n",
    "    '''\n",
    "    label_path = data_path / \"original\" / \"labels\"\n",
    "    txt_paths = [path for path in label_path.glob(\"*.txt\")]\n",
    "\n",
    "    # make YOLO format directory structure\n",
    "    new_image_path = data_path / \"cleaned\" / \"images\"\n",
    "    new_label_path = data_path / \"cleaned\" / \"labels\"\n",
    "    os.makedirs(new_image_path, exist_ok = True)\n",
    "    os.makedirs(new_label_path, exist_ok = True)\n",
    "\n",
    "    i = 0 # filename index\n",
    "    for txt_path in tqdm(txt_paths):\n",
    "        # (image, txt) pairity check\n",
    "        image_path = corresponding_image_path(txt_path)\n",
    "        if image_path is None:\n",
    "            print(f\"Corresponding image file does not exist: {txt_path}\")\n",
    "            # delete_files(txt_path)\n",
    "            continue\n",
    "\n",
    "        # file open check\n",
    "        try:\n",
    "            image = Image.open(image_path)\n",
    "            labels = load_yolo_label(txt_path)\n",
    "        except Exception as e:\n",
    "            print(f\"File open error: {e} for {image_path} or {txt_path}\")\n",
    "            # delete_files(txt_path, image_path)\n",
    "            continue\n",
    "\n",
    "        # file name -> 00001.jpg\n",
    "        file_num = i + start_file_num\n",
    "        name = f\"{file_num:05}\"\n",
    "        new_image_file = new_image_path / f\"{name}.jpg\"\n",
    "        new_label_file = new_label_path / f\"{name}.txt\"\n",
    "\n",
    "        # image extention check and convert\n",
    "        ext = image_path.suffix.lower()\n",
    "        if ext in [\".jpg\", \".jpeg\"]:\n",
    "            image.save(new_image_file, \"JPEG\")\n",
    "\n",
    "        elif ext in [\".png\", '.bmp', '.tiff']:\n",
    "            try:\n",
    "                image = image.convert(\"RGB\")\n",
    "                image.save(new_image_file, \"JPEG\")\n",
    "            except Exception as e:\n",
    "                print(f\"Image converting error {e}: {image_path}\")\n",
    "                # delete_files(txt_path, image_path)\n",
    "                continue\n",
    "        else:\n",
    "            print(f\"extension of {image_path} is incorrect.\")\n",
    "            continue\n",
    "        #     delete_files(txt_path, image_path)\n",
    "\n",
    "        with open(new_label_file, 'w') as f:\n",
    "            for line in labels:\n",
    "                f.write(' '.join(map(str, line)) + '\\n')\n",
    "\n",
    "        i += 1"
   ]
  },
  {
   "cell_type": "code",
   "execution_count": 12,
   "id": "ede722c7",
   "metadata": {},
   "outputs": [],
   "source": [
    "# data_cleaning(Path(args[\"data_dir_1\"]))"
   ]
  },
  {
   "cell_type": "markdown",
   "id": "16b1df61",
   "metadata": {},
   "source": [
    "# 데이터셋 2(args[\"data_dir_2\"])"
   ]
  },
  {
   "cell_type": "markdown",
   "id": "b5642217",
   "metadata": {},
   "source": [
    "## 1. 라벨링 품질 확인"
   ]
  },
  {
   "cell_type": "code",
   "execution_count": null,
   "id": "ce1bf8b3",
   "metadata": {},
   "outputs": [],
   "source": [
    "label_dir_2 = Path(args[\"data_dir_2\"]) / \"original\" / \"labels\"\n",
    "sample_printing(label_dir_2)"
   ]
  },
  {
   "cell_type": "markdown",
   "id": "9d5f121f",
   "metadata": {},
   "source": [
    "## 2. 데이터 정리"
   ]
  },
  {
   "cell_type": "code",
   "execution_count": 15,
   "id": "bb25388e",
   "metadata": {},
   "outputs": [
    {
     "name": "stderr",
     "output_type": "stream",
     "text": [
      "  0%|          | 0/853 [00:00<?, ?it/s]"
     ]
    },
    {
     "name": "stderr",
     "output_type": "stream",
     "text": [
      "100%|██████████| 853/853 [00:47<00:00, 18.06it/s]\n"
     ]
    }
   ],
   "source": [
    "data_dir_2 = Path(args[\"data_dir_2\"])\n",
    "data_cleaning(data_dir_2, 921)"
   ]
  },
  {
   "cell_type": "code",
   "execution_count": 12,
   "id": "020354c2",
   "metadata": {},
   "outputs": [],
   "source": [
    "def label_cleaning(txt_path: Path) -> None:\n",
    "    labels = load_yolo_label(txt_path)\n",
    "    cleaned = []\n",
    "\n",
    "    for label in labels:\n",
    "        cls, cx, cy, bw, bh = label\n",
    "        new_cls = 0 if cls == 1 else 1\n",
    "        cleaned.append(f\"{new_cls} {cx} {cy} {bw} {bh}\\n\")\n",
    "    \n",
    "    with open(txt_path, 'w') as f:\n",
    "        f.writelines(cleaned)"
   ]
  },
  {
   "cell_type": "code",
   "execution_count": 13,
   "id": "26137777",
   "metadata": {},
   "outputs": [],
   "source": [
    "txt_path_gen = data_dir_2 / \"cleaned\" / \"labels\"\n",
    "for txt_path in txt_path_gen.glob(\"*\"):\n",
    "    label_cleaning(txt_path)"
   ]
  },
  {
   "cell_type": "markdown",
   "id": "36635319",
   "metadata": {},
   "source": [
    "00060.txt before\n",
    "\n",
    "1 0.15375 0.6725 0.0125 0.0175\n",
    "0 0.21375 0.6525 0.0175 0.0175\n",
    "0 0.2575 0.72 0.01 0.01\n",
    "0 0.28375 0.675 0.0125 0.015\n",
    "0 0.3225 0.6725 0.015 0.0175\n",
    "0 0.34125 0.685 0.0125 0.015\n",
    "0 0.365 0.6825 0.015 0.0125\n",
    "2 0.4375 0.735 0.025 0.025\n",
    "0 0.575 0.555 0.025 0.03\n",
    "0 0.7075 0.5325 0.025 0.0325"
   ]
  }
 ],
 "metadata": {
  "kernelspec": {
   "display_name": "Python 3",
   "language": "python",
   "name": "python3"
  },
  "language_info": {
   "codemirror_mode": {
    "name": "ipython",
    "version": 3
   },
   "file_extension": ".py",
   "mimetype": "text/x-python",
   "name": "python",
   "nbconvert_exporter": "python",
   "pygments_lexer": "ipython3",
   "version": "3.11.13"
  }
 },
 "nbformat": 4,
 "nbformat_minor": 5
}
