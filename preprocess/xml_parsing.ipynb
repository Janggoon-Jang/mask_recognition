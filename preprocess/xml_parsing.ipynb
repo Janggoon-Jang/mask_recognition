{
 "cells": [
  {
   "cell_type": "markdown",
   "id": "1815fe42",
   "metadata": {},
   "source": [
    "project/\n",
    "├── images/\n",
    "│   ├── train/\n",
    "│   └── val/\n",
    "├── labels/\n",
    "│   ├── train/\n",
    "│   └── val/\n",
    "└── data.yaml"
   ]
  },
  {
   "cell_type": "code",
   "execution_count": 2,
   "id": "599664e4",
   "metadata": {},
   "outputs": [],
   "source": [
    "import os\n",
    "import xml.etree.ElementTree as ET\n",
    "import cv2\n",
    "import matplotlib.pyplot as plt"
   ]
  },
  {
   "cell_type": "code",
   "execution_count": 19,
   "id": "4f649b49",
   "metadata": {},
   "outputs": [],
   "source": [
    "xml_dir = '/mask_recognition/data/dataset_kaggle_Face_Mask_Detection/annotations'\n",
    "label_dir = '/mask_recognition/data/dataset_kaggle_Face_Mask_Detection/labels'\n",
    "os.makedirs(label_dir, exist_ok=True)\n",
    "\n",
    "classes = {\n",
    "    \"with_mask\": 0,\n",
    "    \"without_mask\": 1,\n",
    "    \"mask_weared_incorrect\": 2\n",
    "}\n",
    "\n",
    "for xml_file in os.listdir(xml_dir):\n",
    "    if os.path.splitext(xml_file)[1] != '.xml':\n",
    "        continue\n",
    "\n",
    "    tree = ET.parse(os.path.join(xml_dir, xml_file))\n",
    "    root = tree.getroot()\n",
    "\n",
    "    w = int(root.find(\"size/width\").text)\n",
    "    h = int(root.find(\"size/height\").text)\n",
    "\n",
    "    yolo_lines = []\n",
    "\n",
    "    for obj in root.findall(\"object\"):\n",
    "        class_name = obj.find(\"name\").text\n",
    "        if class_name not in classes:\n",
    "            continue\n",
    "\n",
    "        class_id = classes[class_name]\n",
    "\n",
    "        bbox = obj.find(\"bndbox\")\n",
    "        xmin = int(bbox.find(\"xmin\").text)\n",
    "        ymin = int(bbox.find(\"ymin\").text)\n",
    "        xmax = int(bbox.find(\"xmax\").text)\n",
    "        ymax = int(bbox.find(\"ymax\").text)\n",
    "\n",
    "        cx = (xmin + xmax) / 2 / w\n",
    "        cy = (ymin + ymax) / 2 / h\n",
    "        bw = (xmax - xmin) / w\n",
    "        bh = (ymax - ymin) / w\n",
    "        \n",
    "        yolo_lines.append(f\"{class_id} {cx:.6f} {cy:.6f} {bw:.6f} {bh:.6f}\")\n",
    "\n",
    "    filename = os.path.splitext(xml_file)[0]\n",
    "    with open(os.path.join(label_dir, f\"{filename}.txt\"), \"w\") as f:\n",
    "        f.write(\"\\n\".join(yolo_lines))"
   ]
  },
  {
   "cell_type": "code",
   "execution_count": null,
   "id": "55e2509e",
   "metadata": {},
   "outputs": [],
   "source": [
    "img_root = '/mask_recognition/data/dataset_kaggle_Face_Mask_Detection/images'\n",
    "label_root = '/mask_recognition/data/dataset_kaggle_Face_Mask_Detection/labels'\n",
    "\n",
    "for index in range(50):\n",
    "    img_path = os.path.join(img_root, f\"maksssksksss{index}.png\")\n",
    "    label_path = os.path.join(label_root, f\"maksssksksss{index}.txt\")\n",
    "\n",
    "    img = cv2.imread(img_path)\n",
    "\n",
    "    h, w, _ = img.shape\n",
    "\n",
    "    with open(label_path) as f:\n",
    "        for line in f.readlines():\n",
    "            label, cx, cy, bx, by = [float(value) for value in line.split()]\n",
    "\n",
    "            x1 = int((cx - bx / 2) * w)\n",
    "            x2 = int((cx + bx / 2) * w)\n",
    "            y1 = int((cy - by / 2) * h)\n",
    "            y2 = int((cy + by / 2) * h)\n",
    "\n",
    "            cv2.rectangle(img, (x1, y1), (x2, y2), (0, 0, 255), 3)\n",
    "\n",
    "    plt.imshow(img)\n",
    "    plt.show()\n",
    "        "
   ]
  }
 ],
 "metadata": {
  "kernelspec": {
   "display_name": "Python 3",
   "language": "python",
   "name": "python3"
  },
  "language_info": {
   "codemirror_mode": {
    "name": "ipython",
    "version": 3
   },
   "file_extension": ".py",
   "mimetype": "text/x-python",
   "name": "python",
   "nbconvert_exporter": "python",
   "pygments_lexer": "ipython3",
   "version": "3.11.13"
  }
 },
 "nbformat": 4,
 "nbformat_minor": 5
}
